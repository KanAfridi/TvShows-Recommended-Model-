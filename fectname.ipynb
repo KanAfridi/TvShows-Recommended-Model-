{
 "cells": [
  {
   "cell_type": "code",
   "execution_count": 7,
   "metadata": {},
   "outputs": [],
   "source": [
    "import requests\n",
    "from bs4 import BeautifulSoup"
   ]
  },
  {
   "cell_type": "code",
   "execution_count": 11,
   "metadata": {},
   "outputs": [],
   "source": [
    "url = \"https://www.themoviedb.org/tv/\"\n",
    "response = requests.get(url)\n"
   ]
  },
  {
   "cell_type": "code",
   "execution_count": 12,
   "metadata": {},
   "outputs": [],
   "source": [
    "soup = BeautifulSoup(response.text, 'html.parser') #http://image.tmdb.org/t/p/w500"
   ]
  },
  {
   "cell_type": "code",
   "execution_count": 14,
   "metadata": {},
   "outputs": [
    {
     "name": "stdout",
     "output_type": "stream",
     "text": [
      "<Response [200]>\n"
     ]
    }
   ],
   "source": [
    "print(response)"
   ]
  },
  {
   "cell_type": "code",
   "execution_count": null,
   "metadata": {},
   "outputs": [],
   "source": [
    "if response.status_code == 200:\n",
    "    \n",
    "else:\n",
    "    print(f\"Failed to fetch data from {url}. Status code: {response.status_code}\")"
   ]
  },
  {
   "cell_type": "code",
   "execution_count": null,
   "metadata": {},
   "outputs": [
    {
     "data": {
      "text/plain": [
       "[<div class=\"wrapper glyphicons_v2 picture grey no_image_holder\">\n",
       " <a class=\"image\" href=\"/tv/94605-arcane\" title=\"Arcane\">\n",
       " <img alt=\"Arcane\" class=\"poster w-full\" loading=\"lazy\" src=\"https://media.themoviedb.org/t/p/w220_and_h330_face/abf8tHznhSvl9BAElD2cQeRr7do.jpg\" srcset=\"https://media.themoviedb.org/t/p/w220_and_h330_face/abf8tHznhSvl9BAElD2cQeRr7do.jpg 1x, https://media.themoviedb.org/t/p/w440_and_h660_face/abf8tHznhSvl9BAElD2cQeRr7do.jpg 2x\"/>\n",
       " </a>\n",
       " </div>,\n",
       " <div class=\"wrapper glyphicons_v2 picture grey no_image_holder\">\n",
       " <a class=\"image\" href=\"/tv/77169-cobra-kai\" title=\"Cobra Kai\">\n",
       " <img alt=\"Cobra Kai\" class=\"poster w-full\" loading=\"lazy\" src=\"https://media.themoviedb.org/t/p/w220_and_h330_face/6GDW4EsgsXlYrL1ASb5eCHQK4er.jpg\" srcset=\"https://media.themoviedb.org/t/p/w220_and_h330_face/6GDW4EsgsXlYrL1ASb5eCHQK4er.jpg 1x, https://media.themoviedb.org/t/p/w440_and_h660_face/6GDW4EsgsXlYrL1ASb5eCHQK4er.jpg 2x\"/>\n",
       " </a>\n",
       " </div>,\n",
       " <div class=\"wrapper glyphicons_v2 picture grey no_image_holder\">\n",
       " <a class=\"image\" href=\"/tv/2734-law-order-special-victims-unit\" title=\"Law &amp; Order: Special Victims Unit\">\n",
       " <img alt=\"Law &amp; Order: Special Victims Unit\" class=\"poster w-full\" loading=\"lazy\" src=\"https://media.themoviedb.org/t/p/w220_and_h330_face/abWOCrIo7bbAORxcQyOFNJdnnmR.jpg\" srcset=\"https://media.themoviedb.org/t/p/w220_and_h330_face/abWOCrIo7bbAORxcQyOFNJdnnmR.jpg 1x, https://media.themoviedb.org/t/p/w440_and_h660_face/abWOCrIo7bbAORxcQyOFNJdnnmR.jpg 2x\"/>\n",
       " </a>\n",
       " </div>,\n",
       " <div class=\"wrapper glyphicons_v2 picture grey no_image_holder\">\n",
       " <a class=\"image\" href=\"/tv/1622-supernatural\" title=\"Supernatural\">\n",
       " <img alt=\"Supernatural\" class=\"poster w-full\" loading=\"lazy\" src=\"https://media.themoviedb.org/t/p/w220_and_h330_face/KoYWXbnYuS3b0GyQPkbuexlVK9.jpg\" srcset=\"https://media.themoviedb.org/t/p/w220_and_h330_face/KoYWXbnYuS3b0GyQPkbuexlVK9.jpg 1x, https://media.themoviedb.org/t/p/w440_and_h660_face/KoYWXbnYuS3b0GyQPkbuexlVK9.jpg 2x\"/>\n",
       " </a>\n",
       " </div>,\n",
       " <div class=\"wrapper glyphicons_v2 picture grey no_image_holder\">\n",
       " <a class=\"image\" href=\"/tv/1396-breaking-bad\" title=\"Breaking Bad\">\n",
       " <img alt=\"Breaking Bad\" class=\"poster w-full\" loading=\"lazy\" src=\"https://media.themoviedb.org/t/p/w220_and_h330_face/ztkUQFLlC19CCMYHW9o1zWhJRNq.jpg\" srcset=\"https://media.themoviedb.org/t/p/w220_and_h330_face/ztkUQFLlC19CCMYHW9o1zWhJRNq.jpg 1x, https://media.themoviedb.org/t/p/w440_and_h660_face/ztkUQFLlC19CCMYHW9o1zWhJRNq.jpg 2x\"/>\n",
       " </a>\n",
       " </div>,\n",
       " <div class=\"wrapper glyphicons_v2 picture grey no_image_holder\">\n",
       " <a class=\"image\" href=\"/tv/34307-shameless\" title=\"Shameless\">\n",
       " <img alt=\"Shameless\" class=\"poster w-full\" loading=\"lazy\" src=\"https://media.themoviedb.org/t/p/w220_and_h330_face/9akij7PqZ1g6zl42DQQTtL9CTSb.jpg\" srcset=\"https://media.themoviedb.org/t/p/w220_and_h330_face/9akij7PqZ1g6zl42DQQTtL9CTSb.jpg 1x, https://media.themoviedb.org/t/p/w440_and_h660_face/9akij7PqZ1g6zl42DQQTtL9CTSb.jpg 2x\"/>\n",
       " </a>\n",
       " </div>,\n",
       " <div class=\"wrapper glyphicons_v2 picture grey no_image_holder\">\n",
       " <a class=\"image\" href=\"/tv/240411\" title=\"Dan Da Dan\">\n",
       " <img alt=\"Dan Da Dan\" class=\"poster w-full\" loading=\"lazy\" src=\"https://media.themoviedb.org/t/p/w220_and_h330_face/6qfZAOEUFIrbUH3JvePclx1nXzz.jpg\" srcset=\"https://media.themoviedb.org/t/p/w220_and_h330_face/6qfZAOEUFIrbUH3JvePclx1nXzz.jpg 1x, https://media.themoviedb.org/t/p/w440_and_h660_face/6qfZAOEUFIrbUH3JvePclx1nXzz.jpg 2x\"/>\n",
       " </a>\n",
       " </div>,\n",
       " <div class=\"wrapper glyphicons_v2 picture grey no_image_holder\">\n",
       " <a class=\"image\" href=\"/tv/236994-daima\" title=\"Dragon Ball DAIMA\">\n",
       " <img alt=\"Dragon Ball DAIMA\" class=\"poster w-full\" loading=\"lazy\" src=\"https://media.themoviedb.org/t/p/w220_and_h330_face/cIDPZMGsiVHkHA6HPJmEmGcgyyw.jpg\" srcset=\"https://media.themoviedb.org/t/p/w220_and_h330_face/cIDPZMGsiVHkHA6HPJmEmGcgyyw.jpg 1x, https://media.themoviedb.org/t/p/w440_and_h660_face/cIDPZMGsiVHkHA6HPJmEmGcgyyw.jpg 2x\"/>\n",
       " </a>\n",
       " </div>,\n",
       " <div class=\"wrapper glyphicons_v2 picture grey no_image_holder\">\n",
       " <a class=\"image\" href=\"/tv/37680-suits\" title=\"Suits\">\n",
       " <img alt=\"Suits\" class=\"poster w-full\" loading=\"lazy\" src=\"https://media.themoviedb.org/t/p/w220_and_h330_face/vQiryp6LioFxQThywxbC6TuoDjy.jpg\" srcset=\"https://media.themoviedb.org/t/p/w220_and_h330_face/vQiryp6LioFxQThywxbC6TuoDjy.jpg 1x, https://media.themoviedb.org/t/p/w440_and_h660_face/vQiryp6LioFxQThywxbC6TuoDjy.jpg 2x\"/>\n",
       " </a>\n",
       " </div>,\n",
       " <div class=\"wrapper glyphicons_v2 picture grey no_image_holder\">\n",
       " <a class=\"image\" href=\"/tv/1408-house\" title=\"House\">\n",
       " <img alt=\"House\" class=\"poster w-full\" loading=\"lazy\" src=\"https://media.themoviedb.org/t/p/w220_and_h330_face/3Cz7ySOQJmqiuTdrc6CY0r65yDI.jpg\" srcset=\"https://media.themoviedb.org/t/p/w220_and_h330_face/3Cz7ySOQJmqiuTdrc6CY0r65yDI.jpg 1x, https://media.themoviedb.org/t/p/w440_and_h660_face/3Cz7ySOQJmqiuTdrc6CY0r65yDI.jpg 2x\"/>\n",
       " </a>\n",
       " </div>,\n",
       " <div class=\"wrapper glyphicons_v2 picture grey no_image_holder\">\n",
       " <a class=\"image\" href=\"/tv/44217-vikings\" title=\"Vikings\">\n",
       " <img alt=\"Vikings\" class=\"poster w-full\" loading=\"lazy\" src=\"https://media.themoviedb.org/t/p/w220_and_h330_face/bQLrHIRNEkE3PdIWQrZHynQZazu.jpg\" srcset=\"https://media.themoviedb.org/t/p/w220_and_h330_face/bQLrHIRNEkE3PdIWQrZHynQZazu.jpg 1x, https://media.themoviedb.org/t/p/w440_and_h660_face/bQLrHIRNEkE3PdIWQrZHynQZazu.jpg 2x\"/>\n",
       " </a>\n",
       " </div>,\n",
       " <div class=\"wrapper glyphicons_v2 picture grey no_image_holder\">\n",
       " <a class=\"image\" href=\"/tv/63174-lucifer\" title=\"Lucifer\">\n",
       " <img alt=\"Lucifer\" class=\"poster w-full\" loading=\"lazy\" src=\"https://media.themoviedb.org/t/p/w220_and_h330_face/ekZobS8isE6mA53RAiGDG93hBxL.jpg\" srcset=\"https://media.themoviedb.org/t/p/w220_and_h330_face/ekZobS8isE6mA53RAiGDG93hBxL.jpg 1x, https://media.themoviedb.org/t/p/w440_and_h660_face/ekZobS8isE6mA53RAiGDG93hBxL.jpg 2x\"/>\n",
       " </a>\n",
       " </div>,\n",
       " <div class=\"wrapper glyphicons_v2 picture grey no_image_holder\">\n",
       " <a class=\"image\" href=\"/tv/46952-the-blacklist\" title=\"The Blacklist\">\n",
       " <img alt=\"The Blacklist\" class=\"poster w-full\" loading=\"lazy\" src=\"https://media.themoviedb.org/t/p/w220_and_h330_face/r935SMphvXppx5bJjbIBNx02fwc.jpg\" srcset=\"https://media.themoviedb.org/t/p/w220_and_h330_face/r935SMphvXppx5bJjbIBNx02fwc.jpg 1x, https://media.themoviedb.org/t/p/w440_and_h660_face/r935SMphvXppx5bJjbIBNx02fwc.jpg 2x\"/>\n",
       " </a>\n",
       " </div>,\n",
       " <div class=\"wrapper glyphicons_v2 picture grey no_image_holder\">\n",
       " <a class=\"image\" href=\"/tv/71712-the-good-doctor\" title=\"The Good Doctor\">\n",
       " <img alt=\"The Good Doctor\" class=\"poster w-full\" loading=\"lazy\" src=\"https://media.themoviedb.org/t/p/w220_and_h330_face/53P8oHo9cfOsgb1cLxBi4pFY0ja.jpg\" srcset=\"https://media.themoviedb.org/t/p/w220_and_h330_face/53P8oHo9cfOsgb1cLxBi4pFY0ja.jpg 1x, https://media.themoviedb.org/t/p/w440_and_h660_face/53P8oHo9cfOsgb1cLxBi4pFY0ja.jpg 2x\"/>\n",
       " </a>\n",
       " </div>,\n",
       " <div class=\"wrapper glyphicons_v2 picture grey no_image_holder\">\n",
       " <a class=\"image\" href=\"/tv/60625-rick-and-morty\" title=\"Rick and Morty\">\n",
       " <img alt=\"Rick and Morty\" class=\"poster w-full\" loading=\"lazy\" src=\"https://media.themoviedb.org/t/p/w220_and_h330_face/gdIrmf2DdY5mgN6ycVP0XlzKzbE.jpg\" srcset=\"https://media.themoviedb.org/t/p/w220_and_h330_face/gdIrmf2DdY5mgN6ycVP0XlzKzbE.jpg 1x, https://media.themoviedb.org/t/p/w440_and_h660_face/gdIrmf2DdY5mgN6ycVP0XlzKzbE.jpg 2x\"/>\n",
       " </a>\n",
       " </div>,\n",
       " <div class=\"wrapper glyphicons_v2 picture grey no_image_holder\">\n",
       " <a class=\"image\" href=\"/tv/245312-a-classic-spy\" title=\"A Man on the Inside\">\n",
       " <img alt=\"A Man on the Inside\" class=\"poster w-full\" loading=\"lazy\" src=\"https://media.themoviedb.org/t/p/w220_and_h330_face/3yYX4MBbmWFYCBF2j00FKqzLAQs.jpg\" srcset=\"https://media.themoviedb.org/t/p/w220_and_h330_face/3yYX4MBbmWFYCBF2j00FKqzLAQs.jpg 1x, https://media.themoviedb.org/t/p/w440_and_h660_face/3yYX4MBbmWFYCBF2j00FKqzLAQs.jpg 2x\"/>\n",
       " </a>\n",
       " </div>,\n",
       " <div class=\"wrapper glyphicons_v2 picture grey no_image_holder\">\n",
       " <a class=\"image\" href=\"/tv/60574-peaky-blinders\" title=\"Peaky Blinders\">\n",
       " <img alt=\"Peaky Blinders\" class=\"poster w-full\" loading=\"lazy\" src=\"https://media.themoviedb.org/t/p/w220_and_h330_face/vUUqzWa2LnHIVqkaKVlVGkVcZIW.jpg\" srcset=\"https://media.themoviedb.org/t/p/w220_and_h330_face/vUUqzWa2LnHIVqkaKVlVGkVcZIW.jpg 1x, https://media.themoviedb.org/t/p/w440_and_h660_face/vUUqzWa2LnHIVqkaKVlVGkVcZIW.jpg 2x\"/>\n",
       " </a>\n",
       " </div>,\n",
       " <div class=\"wrapper glyphicons_v2 picture grey no_image_holder\">\n",
       " <a class=\"image\" href=\"/tv/84773-the-lord-of-the-rings-the-rings-of-power\" title=\"The Lord of the Rings: The Rings of Power\">\n",
       " <img alt=\"The Lord of the Rings: The Rings of Power\" class=\"poster w-full\" loading=\"lazy\" src=\"https://media.themoviedb.org/t/p/w220_and_h330_face/mYLOqiStMxDK3fYZFirgrMt8z5d.jpg\" srcset=\"https://media.themoviedb.org/t/p/w220_and_h330_face/mYLOqiStMxDK3fYZFirgrMt8z5d.jpg 1x, https://media.themoviedb.org/t/p/w440_and_h660_face/mYLOqiStMxDK3fYZFirgrMt8z5d.jpg 2x\"/>\n",
       " </a>\n",
       " </div>,\n",
       " <div class=\"wrapper glyphicons_v2 picture grey no_image_holder\">\n",
       " <a class=\"image\" href=\"/tv/14929-heartland\" title=\"Heartland\">\n",
       " <img alt=\"Heartland\" class=\"poster w-full\" loading=\"lazy\" src=\"https://media.themoviedb.org/t/p/w220_and_h330_face/uc2gtWczT58BiAUJWFz9P5aZmNF.jpg\" srcset=\"https://media.themoviedb.org/t/p/w220_and_h330_face/uc2gtWczT58BiAUJWFz9P5aZmNF.jpg 1x, https://media.themoviedb.org/t/p/w440_and_h660_face/uc2gtWczT58BiAUJWFz9P5aZmNF.jpg 2x\"/>\n",
       " </a>\n",
       " </div>,\n",
       " <div class=\"wrapper glyphicons_v2 picture grey no_image_holder\">\n",
       " <a class=\"image\" href=\"/tv/5920-the-mentalist\" title=\"The Mentalist\">\n",
       " <img alt=\"The Mentalist\" class=\"poster w-full\" loading=\"lazy\" src=\"https://media.themoviedb.org/t/p/w220_and_h330_face/acYXu4KaDj1NIkMgObnhe4C4a0T.jpg\" srcset=\"https://media.themoviedb.org/t/p/w220_and_h330_face/acYXu4KaDj1NIkMgObnhe4C4a0T.jpg 1x, https://media.themoviedb.org/t/p/w440_and_h660_face/acYXu4KaDj1NIkMgObnhe4C4a0T.jpg 2x\"/>\n",
       " </a>\n",
       " </div>]"
      ]
     },
     "execution_count": 32,
     "metadata": {},
     "output_type": "execute_result"
    }
   ],
   "source": [
    "all_poster = soup.find_all('div', class_=\"wrapper glyphicons_v2 picture grey no_image_holder\")\n",
    "all_poster"
   ]
  },
  {
   "cell_type": "code",
   "execution_count": 35,
   "metadata": {},
   "outputs": [
    {
     "name": "stdout",
     "output_type": "stream",
     "text": [
      "https://media.themoviedb.org/t/p/w220_and_h330_face/abf8tHznhSvl9BAElD2cQeRr7do.jpg\n",
      "https://media.themoviedb.org/t/p/w220_and_h330_face/6GDW4EsgsXlYrL1ASb5eCHQK4er.jpg\n",
      "https://media.themoviedb.org/t/p/w220_and_h330_face/abWOCrIo7bbAORxcQyOFNJdnnmR.jpg\n",
      "https://media.themoviedb.org/t/p/w220_and_h330_face/KoYWXbnYuS3b0GyQPkbuexlVK9.jpg\n",
      "https://media.themoviedb.org/t/p/w220_and_h330_face/ztkUQFLlC19CCMYHW9o1zWhJRNq.jpg\n",
      "https://media.themoviedb.org/t/p/w220_and_h330_face/9akij7PqZ1g6zl42DQQTtL9CTSb.jpg\n",
      "https://media.themoviedb.org/t/p/w220_and_h330_face/6qfZAOEUFIrbUH3JvePclx1nXzz.jpg\n",
      "https://media.themoviedb.org/t/p/w220_and_h330_face/cIDPZMGsiVHkHA6HPJmEmGcgyyw.jpg\n",
      "https://media.themoviedb.org/t/p/w220_and_h330_face/vQiryp6LioFxQThywxbC6TuoDjy.jpg\n",
      "https://media.themoviedb.org/t/p/w220_and_h330_face/3Cz7ySOQJmqiuTdrc6CY0r65yDI.jpg\n",
      "https://media.themoviedb.org/t/p/w220_and_h330_face/bQLrHIRNEkE3PdIWQrZHynQZazu.jpg\n",
      "https://media.themoviedb.org/t/p/w220_and_h330_face/ekZobS8isE6mA53RAiGDG93hBxL.jpg\n",
      "https://media.themoviedb.org/t/p/w220_and_h330_face/r935SMphvXppx5bJjbIBNx02fwc.jpg\n",
      "https://media.themoviedb.org/t/p/w220_and_h330_face/53P8oHo9cfOsgb1cLxBi4pFY0ja.jpg\n",
      "https://media.themoviedb.org/t/p/w220_and_h330_face/gdIrmf2DdY5mgN6ycVP0XlzKzbE.jpg\n",
      "https://media.themoviedb.org/t/p/w220_and_h330_face/3yYX4MBbmWFYCBF2j00FKqzLAQs.jpg\n",
      "https://media.themoviedb.org/t/p/w220_and_h330_face/vUUqzWa2LnHIVqkaKVlVGkVcZIW.jpg\n",
      "https://media.themoviedb.org/t/p/w220_and_h330_face/mYLOqiStMxDK3fYZFirgrMt8z5d.jpg\n",
      "https://media.themoviedb.org/t/p/w220_and_h330_face/uc2gtWczT58BiAUJWFz9P5aZmNF.jpg\n",
      "https://media.themoviedb.org/t/p/w220_and_h330_face/acYXu4KaDj1NIkMgObnhe4C4a0T.jpg\n"
     ]
    }
   ],
   "source": [
    "# Extract image URLs\n",
    "image_urls = []\n",
    "for poster in all_poster:\n",
    "    img_tag = poster.find('img')  # Find the <img> tag within the <div>\n",
    "    if img_tag and 'src' in img_tag.attrs:  # Ensure the tag exists and has a 'src' attribute\n",
    "        image_urls.append(img_tag['src'])\n",
    "\n",
    "# Print the extracted image URLs\n",
    "for url in image_urls:\n",
    "    print(url)\n"
   ]
  },
  {
   "cell_type": "code",
   "execution_count": 23,
   "metadata": {},
   "outputs": [
    {
     "ename": "SyntaxError",
     "evalue": "invalid syntax (2847695833.py, line 1)",
     "output_type": "error",
     "traceback": [
      "\u001b[1;36m  Cell \u001b[1;32mIn[23], line 1\u001b[1;36m\u001b[0m\n\u001b[1;33m    print(soup.find_all('href', class_=href=\"/\")\u001b[0m\n\u001b[1;37m                                           ^\u001b[0m\n\u001b[1;31mSyntaxError\u001b[0m\u001b[1;31m:\u001b[0m invalid syntax\n"
     ]
    }
   ],
   "source": [
    "print(soup.find_all('href', class_=href=\"/\")"
   ]
  }
 ],
 "metadata": {
  "kernelspec": {
   "display_name": "myvenv",
   "language": "python",
   "name": "python3"
  },
  "language_info": {
   "codemirror_mode": {
    "name": "ipython",
    "version": 3
   },
   "file_extension": ".py",
   "mimetype": "text/x-python",
   "name": "python",
   "nbconvert_exporter": "python",
   "pygments_lexer": "ipython3",
   "version": "3.12.2"
  }
 },
 "nbformat": 4,
 "nbformat_minor": 2
}
